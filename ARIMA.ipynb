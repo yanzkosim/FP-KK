{
 "cells": [
  {
   "cell_type": "code",
   "execution_count": 1,
   "id": "5bde1030-7649-4a5d-b0be-cdc959f561bb",
   "metadata": {},
   "outputs": [],
   "source": [
    "import pandas as pd\n",
    "import numpy as np\n",
    "\n",
    "from pmdarima.arima import auto_arima, ADFTest\n",
    "from statsmodels.graphics.tsaplots import plot_acf, plot_pacf\n",
    "from statsmodels.tsa.arima_model import ARIMA\n",
    "from statsmodels.tsa.stattools import adfuller"
   ]
  },
  {
   "cell_type": "code",
   "execution_count": 2,
   "id": "ab7b8b6f-3080-4c3d-9667-291571094540",
   "metadata": {},
   "outputs": [],
   "source": [
    "dataset = pd.read_csv('monthly_csv.csv')\n",
    "\n",
    "treshold = 820\n",
    "\n",
    "series = dataset['Price']\n",
    "year = dataset['Date']\n",
    "\n",
    "train_x = year[:treshold]\n",
    "test_x = year[treshold:]\n",
    "\n",
    "train = series[:treshold]\n",
    "test = series[treshold:]"
   ]
  },
  {
   "cell_type": "code",
   "execution_count": 3,
   "id": "1a0c10ec-4907-4c70-b95a-cbb455e50d66",
   "metadata": {},
   "outputs": [
    {
     "data": {
      "image/png": "[encoded data removed]",
      "text/plain": [
       "<Figure size 432x288 with 1 Axes>"
      ]
     },
     "execution_count": 3,
     "metadata": {},
     "output_type": "execute_result"
    },
    {
     "data": {
      "image/png": "[encoded data removed]",
      "text/plain": [
       "<Figure size 432x288 with 1 Axes>"
      ]
     },
     "metadata": {
      "needs_background": "light"
     },
     "output_type": "display_data"
    }
   ],
   "source": [
    "# Draw Autocorrelation\n",
    "plot_acf(train)"
   ]
  },
  {
   "cell_type": "code",
   "execution_count": 4,
   "id": "cff3337a-2f98-4459-8b86-d4312ba7e273",
   "metadata": {},
   "outputs": [],
   "source": [
    "# Since the p-value is larger than 0.05 (say alpha = 0.05), we need to do the differencing\n",
    "def adf_test(series):\n",
    "    res = adfuller(series)\n",
    "    print('ADF Statistic: %f' % res[0])\n",
    "    print('p-value: %f' % res[1])\n",
    "    return res"
   ]
  },
  {
   "cell_type": "code",
   "execution_count": 5,
   "id": "be357525-75de-45dc-a255-179f3c22dd79",
   "metadata": {},
   "outputs": [
    {
     "name": "stdout",
     "output_type": "stream",
     "text": [
      "ADF Statistic: -0.237311\n",
      "p-value: 0.933926\n"
     ]
    }
   ],
   "source": [
    "# Checking the original data without differencing\n",
    "test_result = adf_test(train)"
   ]
  },
  {
   "cell_type": "code",
   "execution_count": 6,
   "id": "578df733-3e2d-4af9-aaa3-436713976962",
   "metadata": {},
   "outputs": [],
   "source": [
    "# 1st difference\n",
    "diff_1 = train.diff(periods=1)\n",
    "diff_1 = diff_1.iloc[1:]"
   ]
  },
  {
   "cell_type": "code",
   "execution_count": 7,
   "id": "9ff111d0-e5d7-4480-8c82-beeea9269f4f",
   "metadata": {},
   "outputs": [
    {
     "name": "stdout",
     "output_type": "stream",
     "text": [
      "ADF Statistic: -6.956157\n",
      "p-value: 0.000000\n"
     ]
    }
   ],
   "source": [
    "test_result = adf_test(diff_1)"
   ]
  },
  {
   "cell_type": "code",
   "execution_count": 8,
   "id": "13cc6a01-ea66-41bb-bb6c-7bd6e1ce7f56",
   "metadata": {},
   "outputs": [],
   "source": [
    "model = auto_arima(train, d=1, D=1)"
   ]
  },
  {
   "cell_type": "code",
   "execution_count": 16,
   "id": "27321f95-e965-4700-abab-3f8650a29d6a",
   "metadata": {},
   "outputs": [
    {
     "data": {
      "text/html": [
       "<div>\n",
       "<style scoped>\n",
       "    .dataframe tbody tr th:only-of-type {\n",
       "        vertical-align: middle;\n",
       "    }\n",
       "\n",
       "    .dataframe tbody tr th {\n",
       "        vertical-align: top;\n",
       "    }\n",
       "\n",
       "    .dataframe thead th {\n",
       "        text-align: right;\n",
       "    }\n",
       "</style>\n",
       "<table border=\"1\" class=\"dataframe\">\n",
       "  <thead>\n",
       "    <tr style=\"text-align: right;\">\n",
       "      <th></th>\n",
       "      <th>Date</th>\n",
       "      <th>Price</th>\n",
       "    </tr>\n",
       "  </thead>\n",
       "  <tbody>\n",
       "    <tr>\n",
       "      <th>842</th>\n",
       "      <td>2020-03</td>\n",
       "      <td>1593.764</td>\n",
       "    </tr>\n",
       "    <tr>\n",
       "      <th>843</th>\n",
       "      <td>2020-04</td>\n",
       "      <td>1680.030</td>\n",
       "    </tr>\n",
       "    <tr>\n",
       "      <th>844</th>\n",
       "      <td>2020-05</td>\n",
       "      <td>1715.697</td>\n",
       "    </tr>\n",
       "    <tr>\n",
       "      <th>845</th>\n",
       "      <td>2020-06</td>\n",
       "      <td>1734.032</td>\n",
       "    </tr>\n",
       "    <tr>\n",
       "      <th>846</th>\n",
       "      <td>2020-07</td>\n",
       "      <td>1840.807</td>\n",
       "    </tr>\n",
       "  </tbody>\n",
       "</table>\n",
       "</div>"
      ],
      "text/plain": [
       "        Date     Price\n",
       "842  2020-03  1593.764\n",
       "843  2020-04  1680.030\n",
       "844  2020-05  1715.697\n",
       "845  2020-06  1734.032\n",
       "846  2020-07  1840.807"
      ]
     },
     "execution_count": 16,
     "metadata": {},
     "output_type": "execute_result"
    }
   ],
   "source": [
    "dataset.tail()"
   ]
  },
  {
   "cell_type": "code",
   "execution_count": 17,
   "id": "587d5a0d-209f-477e-a49c-3dd8428e781b",
   "metadata": {},
   "outputs": [],
   "source": [
    "to_predict = list(range(847, 1500))\n",
    "predict = pd.DataFrame(model.predict(n_periods = 653), columns=['Predict Result'], index = to_predict)"
   ]
  },
  {
   "cell_type": "code",
   "execution_count": 18,
   "id": "fc18fd4c-e272-4b20-b87d-a01819882804",
   "metadata": {},
   "outputs": [
    {
     "data": {
      "text/html": [
       "<div>\n",
       "<style scoped>\n",
       "    .dataframe tbody tr th:only-of-type {\n",
       "        vertical-align: middle;\n",
       "    }\n",
       "\n",
       "    .dataframe tbody tr th {\n",
       "        vertical-align: top;\n",
       "    }\n",
       "\n",
       "    .dataframe thead th {\n",
       "        text-align: right;\n",
       "    }\n",
       "</style>\n",
       "<table border=\"1\" class=\"dataframe\">\n",
       "  <thead>\n",
       "    <tr style=\"text-align: right;\">\n",
       "      <th></th>\n",
       "      <th>Predict Result</th>\n",
       "    </tr>\n",
       "  </thead>\n",
       "  <tbody>\n",
       "    <tr>\n",
       "      <th>847</th>\n",
       "      <td>1866.819277</td>\n",
       "    </tr>\n",
       "    <tr>\n",
       "      <th>848</th>\n",
       "      <td>1874.906677</td>\n",
       "    </tr>\n",
       "    <tr>\n",
       "      <th>849</th>\n",
       "      <td>1892.839979</td>\n",
       "    </tr>\n",
       "    <tr>\n",
       "      <th>850</th>\n",
       "      <td>1903.298036</td>\n",
       "    </tr>\n",
       "    <tr>\n",
       "      <th>851</th>\n",
       "      <td>1917.231617</td>\n",
       "    </tr>\n",
       "    <tr>\n",
       "      <th>...</th>\n",
       "      <td>...</td>\n",
       "    </tr>\n",
       "    <tr>\n",
       "      <th>1495</th>\n",
       "      <td>3569.488343</td>\n",
       "    </tr>\n",
       "    <tr>\n",
       "      <th>1496</th>\n",
       "      <td>3571.842369</td>\n",
       "    </tr>\n",
       "    <tr>\n",
       "      <th>1497</th>\n",
       "      <td>3574.196396</td>\n",
       "    </tr>\n",
       "    <tr>\n",
       "      <th>1498</th>\n",
       "      <td>3576.550422</td>\n",
       "    </tr>\n",
       "    <tr>\n",
       "      <th>1499</th>\n",
       "      <td>3578.904448</td>\n",
       "    </tr>\n",
       "  </tbody>\n",
       "</table>\n",
       "<p>653 rows × 1 columns</p>\n",
       "</div>"
      ],
      "text/plain": [
       "      Predict Result\n",
       "847      1866.819277\n",
       "848      1874.906677\n",
       "849      1892.839979\n",
       "850      1903.298036\n",
       "851      1917.231617\n",
       "...              ...\n",
       "1495     3569.488343\n",
       "1496     3571.842369\n",
       "1497     3574.196396\n",
       "1498     3576.550422\n",
       "1499     3578.904448\n",
       "\n",
       "[653 rows x 1 columns]"
      ]
     },
     "execution_count": 18,
     "metadata": {},
     "output_type": "execute_result"
    }
   ],
   "source": [
    "predict"
   ]
  },
  {
   "cell_type": "code",
   "execution_count": 40,
   "id": "08b9419c-5153-41c6-a392-1c10f564e45f",
   "metadata": {},
   "outputs": [],
   "source": [
    "draw_x = dataset.iloc[:, 0:1].values\n",
    "draw_y = dataset.iloc[:, 1].values\n",
    "draw_x = np.array(draw_x)\n",
    "for item in draw_x:\n",
    "    item[0] = (float(item[0][0:4]) * 12) + (float(item[0][5:]))\n",
    "\n",
    "pred_x = list(range(24248, 24901))"
   ]
  },
  {
   "cell_type": "code",
   "execution_count": 43,
   "id": "5396ed9d-52b4-41a2-9e18-50588f8a6581",
   "metadata": {},
   "outputs": [
    {
     "data": {
      "text/plain": [
       "[<matplotlib.lines.Line2D at 0x1dc79c646d0>]"
      ]
     },
     "execution_count": 43,
     "metadata": {},
     "output_type": "execute_result"
    },
    {
     "data": {
      "image/png": "[encoded data removed]",
      "text/plain": [
       "<Figure size 432x288 with 1 Axes>"
      ]
     },
     "metadata": {
      "needs_background": "light"
     },
     "output_type": "display_data"
    }
   ],
   "source": [
    "import matplotlib.pyplot as plt \n",
    "plt.plot(draw_x, draw_y, lw=1,  color='green')\n",
    "plt.plot(pred_x, predict, lw=1,  color='red')"
   ]
  },
  {
   "cell_type": "code",
   "execution_count": null,
   "id": "6c3790be-4184-4ee2-bd88-4570a3048306",
   "metadata": {},
   "outputs": [],
   "source": [
    "from sklearn import metrics\n",
    "mse = metrics.mean_squared_error(Y_test,Y_pred)\n",
    "mae = metrics.mean_absolute_error(Y_test,Y_pred)\n",
    "rmse = np.sqrt(metrics.mean_squared_error(Y_test,Y_pred))\n",
    "score = regressor.score(X_test,Y_test)\n",
    "\n",
    "print(\"R-squared:\", score)\n",
    "print(\"MSE:\", mse)\n",
    "print(\"MAE:\", mae)\n",
    "print(\"RMSE:\", rmse)"
   ]
  },
  {
   "cell_type": "code",
   "execution_count": 9,
   "id": "03b490e8-bebb-4d26-bcbe-d897066eda02",
   "metadata": {},
   "outputs": [
    {
     "name": "stdout",
     "output_type": "stream",
     "text": [
      "ADF Statistic: 2.182377\n",
      "p-value: 0.998868\n"
     ]
    },
    {
     "data": {
      "text/plain": [
       "(2.182376953460721,\n",
       " 0.9988676889328771,\n",
       " 20,\n",
       " 729,\n",
       " {'1%': -3.4393520240470554,\n",
       "  '5%': -2.8655128165959236,\n",
       "  '10%': -2.5688855736949163},\n",
       " 6466.7759477716145)"
      ]
     },
     "execution_count": 9,
     "metadata": {},
     "output_type": "execute_result"
    }
   ],
   "source": [
    "adf_test(train)"
   ]
  },
  {
   "cell_type": "code",
   "execution_count": 10,
   "id": "9b963e86-ae71-474d-a704-a0440220859d",
   "metadata": {},
   "outputs": [
    {
     "name": "stdout",
     "output_type": "stream",
     "text": [
      "ADF Statistic: -5.157899\n",
      "p-value: 0.000011\n"
     ]
    },
    {
     "data": {
      "text/plain": [
       "(-5.157899482708051,\n",
       " 1.0709587069388628e-05,\n",
       " 19,\n",
       " 729,\n",
       " {'1%': -3.4393520240470554,\n",
       "  '5%': -2.8655128165959236,\n",
       "  '10%': -2.5688855736949163},\n",
       " 6461.848190222528)"
      ]
     },
     "execution_count": 10,
     "metadata": {},
     "output_type": "execute_result"
    }
   ],
   "source": [
    "diff_1 = train.diff(periods=1)\n",
    "diff_1 = diff_1.iloc[1:]\n",
    "adf_test(diff_1)"
   ]
  },
  {
   "cell_type": "code",
   "execution_count": 8,
   "id": "f0961215-a908-498d-b6ee-020521ee1d3e",
   "metadata": {},
   "outputs": [],
   "source": [
    "model = auto_arima(train, d=1, D=1)"
   ]
  },
  {
   "cell_type": "code",
   "execution_count": 13,
   "id": "664739c5-6f0c-42b1-a3a4-aeafcf4ae74f",
   "metadata": {},
   "outputs": [
    {
     "name": "stdout",
     "output_type": "stream",
     "text": [
      "750\n",
      "97\n"
     ]
    }
   ],
   "source": [
    "print(train.size)\n",
    "print(test.size)"
   ]
  },
  {
   "cell_type": "code",
   "execution_count": 9,
   "id": "6a836312-62f6-4883-87c6-2d48c40f8f99",
   "metadata": {},
   "outputs": [],
   "source": [
    "to_predict = list(range(train.size+1, train.size+1+test.size))\n",
    "predict = pd.DataFrame(model.predict(n_periods = test.size), columns=['Predict Result'], index = to_predict)"
   ]
  },
  {
   "cell_type": "code",
   "execution_count": 10,
   "id": "ec81204b-30e0-4784-9754-55a2fcd0c8d8",
   "metadata": {},
   "outputs": [
    {
     "data": {
      "text/html": [
       "<div>\n",
       "<style scoped>\n",
       "    .dataframe tbody tr th:only-of-type {\n",
       "        vertical-align: middle;\n",
       "    }\n",
       "\n",
       "    .dataframe tbody tr th {\n",
       "        vertical-align: top;\n",
       "    }\n",
       "\n",
       "    .dataframe thead th {\n",
       "        text-align: right;\n",
       "    }\n",
       "</style>\n",
       "<table border=\"1\" class=\"dataframe\">\n",
       "  <thead>\n",
       "    <tr style=\"text-align: right;\">\n",
       "      <th></th>\n",
       "      <th>Predict Result</th>\n",
       "    </tr>\n",
       "  </thead>\n",
       "  <tbody>\n",
       "    <tr>\n",
       "      <th>821</th>\n",
       "      <td>1332.431225</td>\n",
       "    </tr>\n",
       "    <tr>\n",
       "      <th>822</th>\n",
       "      <td>1337.586630</td>\n",
       "    </tr>\n",
       "    <tr>\n",
       "      <th>823</th>\n",
       "      <td>1336.464212</td>\n",
       "    </tr>\n",
       "    <tr>\n",
       "      <th>824</th>\n",
       "      <td>1340.101982</td>\n",
       "    </tr>\n",
       "    <tr>\n",
       "      <th>825</th>\n",
       "      <td>1340.130318</td>\n",
       "    </tr>\n",
       "    <tr>\n",
       "      <th>826</th>\n",
       "      <td>1342.895523</td>\n",
       "    </tr>\n",
       "    <tr>\n",
       "      <th>827</th>\n",
       "      <td>1343.585485</td>\n",
       "    </tr>\n",
       "    <tr>\n",
       "      <th>828</th>\n",
       "      <td>1345.849009</td>\n",
       "    </tr>\n",
       "    <tr>\n",
       "      <th>829</th>\n",
       "      <td>1346.919373</td>\n",
       "    </tr>\n",
       "    <tr>\n",
       "      <th>830</th>\n",
       "      <td>1348.894456</td>\n",
       "    </tr>\n",
       "    <tr>\n",
       "      <th>831</th>\n",
       "      <td>1350.183531</td>\n",
       "    </tr>\n",
       "    <tr>\n",
       "      <th>832</th>\n",
       "      <td>1351.992775</td>\n",
       "    </tr>\n",
       "    <tr>\n",
       "      <th>833</th>\n",
       "      <td>1353.407599</td>\n",
       "    </tr>\n",
       "    <tr>\n",
       "      <th>834</th>\n",
       "      <td>1355.121493</td>\n",
       "    </tr>\n",
       "    <tr>\n",
       "      <th>835</th>\n",
       "      <td>1356.608616</td>\n",
       "    </tr>\n",
       "    <tr>\n",
       "      <th>836</th>\n",
       "      <td>1358.267690</td>\n",
       "    </tr>\n",
       "    <tr>\n",
       "      <th>837</th>\n",
       "      <td>1359.796381</td>\n",
       "    </tr>\n",
       "    <tr>\n",
       "      <th>838</th>\n",
       "      <td>1361.423935</td>\n",
       "    </tr>\n",
       "    <tr>\n",
       "      <th>839</th>\n",
       "      <td>1362.976526</td>\n",
       "    </tr>\n",
       "    <tr>\n",
       "      <th>840</th>\n",
       "      <td>1364.585958</td>\n",
       "    </tr>\n",
       "    <tr>\n",
       "      <th>841</th>\n",
       "      <td>1366.152290</td>\n",
       "    </tr>\n",
       "    <tr>\n",
       "      <th>842</th>\n",
       "      <td>1367.751303</td>\n",
       "    </tr>\n",
       "    <tr>\n",
       "      <th>843</th>\n",
       "      <td>1369.325535</td>\n",
       "    </tr>\n",
       "    <tr>\n",
       "      <th>844</th>\n",
       "      <td>1370.918557</td>\n",
       "    </tr>\n",
       "    <tr>\n",
       "      <th>845</th>\n",
       "      <td>1372.497332</td>\n",
       "    </tr>\n",
       "    <tr>\n",
       "      <th>846</th>\n",
       "      <td>1374.086910</td>\n",
       "    </tr>\n",
       "    <tr>\n",
       "      <th>847</th>\n",
       "      <td>1375.668296</td>\n",
       "    </tr>\n",
       "  </tbody>\n",
       "</table>\n",
       "</div>"
      ],
      "text/plain": [
       "     Predict Result\n",
       "821     1332.431225\n",
       "822     1337.586630\n",
       "823     1336.464212\n",
       "824     1340.101982\n",
       "825     1340.130318\n",
       "826     1342.895523\n",
       "827     1343.585485\n",
       "828     1345.849009\n",
       "829     1346.919373\n",
       "830     1348.894456\n",
       "831     1350.183531\n",
       "832     1351.992775\n",
       "833     1353.407599\n",
       "834     1355.121493\n",
       "835     1356.608616\n",
       "836     1358.267690\n",
       "837     1359.796381\n",
       "838     1361.423935\n",
       "839     1362.976526\n",
       "840     1364.585958\n",
       "841     1366.152290\n",
       "842     1367.751303\n",
       "843     1369.325535\n",
       "844     1370.918557\n",
       "845     1372.497332\n",
       "846     1374.086910\n",
       "847     1375.668296"
      ]
     },
     "execution_count": 10,
     "metadata": {},
     "output_type": "execute_result"
    }
   ],
   "source": [
    "predict"
   ]
  },
  {
   "cell_type": "code",
   "execution_count": 11,
   "id": "0450c683-fa1e-47af-8c1b-cc9767774b1b",
   "metadata": {},
   "outputs": [
    {
     "name": "stdout",
     "output_type": "stream",
     "text": [
      "MSE: 33247.048524166305\n",
      "MAE: 144.88115913398772\n",
      "RMSE: 182.3377320363679\n"
     ]
    }
   ],
   "source": [
    "from sklearn import metrics\n",
    "mse = metrics.mean_squared_error(test,predict)\n",
    "mae = metrics.mean_absolute_error(test,predict)\n",
    "rmse = np.sqrt(metrics.mean_squared_error(test,predict))\n",
    "\n",
    "print(\"MSE:\", mse)\n",
    "print(\"MAE:\", mae)\n",
    "print(\"RMSE:\", rmse)"
   ]
  },
  {
   "cell_type": "code",
   "execution_count": 12,
   "id": "93dcaff1-a8a7-4ad5-aef5-1d90fb37724f",
   "metadata": {},
   "outputs": [
    {
     "data": {
      "text/plain": [
       "[<matplotlib.lines.Line2D at 0x1d759881160>]"
      ]
     },
     "execution_count": 12,
     "metadata": {},
     "output_type": "execute_result"
    },
    {
     "data": {
      "image/png": "[encoded data removed]",
      "text/plain": [
       "<Figure size 432x288 with 1 Axes>"
      ]
     },
     "metadata": {
      "needs_background": "light"
     },
     "output_type": "display_data"
    }
   ],
   "source": [
    "import matplotlib.pyplot as plt \n",
    "plt.plot(train_x, train, lw=1,  color='green')\n",
    "plt.plot(test_x, predict, lw=1,  color='red')\n",
    "plt.plot(test_x, test, lw=1, color='blue')"
   ]
  },
  {
   "cell_type": "code",
   "execution_count": 13,
   "id": "b8938ba0-4598-4c21-9c2d-9a7b7258d8ef",
   "metadata": {},
   "outputs": [],
   "source": [
    "to_predict_more = list(range(train.size+1, train.size+1+test.size+500))\n",
    "predict_more = pd.DataFrame(model.predict(n_periods = test.size+500), columns=['Predict Result'], index = to_predict_more)"
   ]
  },
  {
   "cell_type": "code",
   "execution_count": 14,
   "id": "fec9ecdd-e780-424f-817d-7ccb281d1599",
   "metadata": {},
   "outputs": [
    {
     "data": {
      "text/plain": [
       "[<matplotlib.lines.Line2D at 0x1ecf28c4970>]"
      ]
     },
     "execution_count": 14,
     "metadata": {},
     "output_type": "execute_result"
    },
    {
     "data": {
      "image/png": "[encoded data removed]",
      "text/plain": [
       "<Figure size 432x288 with 1 Axes>"
      ]
     },
     "metadata": {
      "needs_background": "light"
     },
     "output_type": "display_data"
    }
   ],
   "source": [
    "plt.plot(train_x, train, lw=1,  color='green')\n",
    "plt.plot(to_predict_more, predict_more, lw=1,  color='red')\n",
    "plt.plot(test_x, test, lw=1, color='blue')"
   ]
  },
  {
   "cell_type": "code",
   "execution_count": null,
   "id": "c23c5d82-78fb-4306-a659-65c2f8c7d35a",
   "metadata": {},
   "outputs": [],
   "source": []
  }
 ],
 "metadata": {
  "kernelspec": {
   "display_name": "Python 3 (ipykernel)",
   "language": "python",
   "name": "python3"
  },
  "language_info": {
   "codemirror_mode": {
    "name": "ipython",
    "version": 3
   },
   "file_extension": ".py",
   "mimetype": "text/x-python",
   "name": "python",
   "nbconvert_exporter": "python",
   "pygments_lexer": "ipython3",
   "version": "3.9.7"
  }
 },
 "nbformat": 4,
 "nbformat_minor": 5
}
