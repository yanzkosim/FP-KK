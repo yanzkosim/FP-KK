{
 "cells": [
  {
   "cell_type": "code",
   "execution_count": 1,
   "id": "5bde1030-7649-4a5d-b0be-cdc959f561bb",
   "metadata": {},
   "outputs": [],
   "source": [
    "import pandas as pd\n",
    "import numpy as np\n",
    "\n",
    "import plotly.express as px\n",
    "import plotly.graph_objects as go\n",
    "from plotly.subplots import make_subplots\n",
    "import plotly.figure_factory as ff\n",
    "\n",
    "from pmdarima.arima import auto_arima, ADFTest\n",
    "from statsmodels.graphics.tsaplots import plot_acf, plot_pacf\n",
    "from statsmodels.tsa.arima_model import ARIMA\n",
    "from statsmodels.tsa.stattools import adfuller"
   ]
  },
  {
   "cell_type": "code",
   "execution_count": 2,
   "id": "ab7b8b6f-3080-4c3d-9667-291571094540",
   "metadata": {},
   "outputs": [],
   "source": [
    "dataset = pd.read_csv('monthly_csv.csv')"
   ]
  },
  {
   "cell_type": "code",
   "execution_count": 3,
   "id": "1a0c10ec-4907-4c70-b95a-cbb455e50d66",
   "metadata": {},
   "outputs": [
    {
     "data": {
      "image/png": "[encoded data removed]",
      "text/plain": [
       "<Figure size 432x288 with 1 Axes>"
      ]
     },
     "execution_count": 3,
     "metadata": {},
     "output_type": "execute_result"
    },
    {
     "data": {
      "image/png": "[encoded data removed]",
      "text/plain": [
       "<Figure size 432x288 with 1 Axes>"
      ]
     },
     "metadata": {
      "needs_background": "light"
     },
     "output_type": "display_data"
    }
   ],
   "source": [
    "# Draw Autocorrelation\n",
    "plot_acf(dataset['Price'])"
   ]
  },
  {
   "cell_type": "code",
   "execution_count": 7,
   "id": "cff3337a-2f98-4459-8b86-d4312ba7e273",
   "metadata": {},
   "outputs": [],
   "source": [
    "# Since the p-value is larger than 0.05 (say alpha = 0.05), we need to do the differencing\n",
    "def adf_test(series):\n",
    "    res = adfuller(series)\n",
    "    print('ADF Statistic: %f' % res[0])\n",
    "    print('p-value: %f' % res[1])\n",
    "    return res"
   ]
  },
  {
   "cell_type": "code",
   "execution_count": 8,
   "id": "be357525-75de-45dc-a255-179f3c22dd79",
   "metadata": {},
   "outputs": [
    {
     "name": "stdout",
     "output_type": "stream",
     "text": [
      "ADF Statistic: 0.814324\n",
      "p-value: 0.991864\n"
     ]
    }
   ],
   "source": [
    "# Checking the original data without differencing\n",
    "test_result = adf_test(dataset['Price'])"
   ]
  },
  {
   "cell_type": "code",
   "execution_count": 9,
   "id": "578df733-3e2d-4af9-aaa3-436713976962",
   "metadata": {},
   "outputs": [],
   "source": [
    "# 1st difference\n",
    "diff_1 = dataset['Price'].diff(periods=1)\n",
    "diff_1 = diff_1.iloc[1:]"
   ]
  },
  {
   "cell_type": "code",
   "execution_count": 13,
   "id": "9ff111d0-e5d7-4480-8c82-beeea9269f4f",
   "metadata": {},
   "outputs": [
    {
     "name": "stdout",
     "output_type": "stream",
     "text": [
      "ADF Statistic: -6.217087\n",
      "p-value: 0.000000\n"
     ]
    }
   ],
   "source": [
    "test_result = adf_test(diff_1)"
   ]
  },
  {
   "cell_type": "code",
   "execution_count": 15,
   "id": "13cc6a01-ea66-41bb-bb6c-7bd6e1ce7f56",
   "metadata": {},
   "outputs": [],
   "source": [
    "model = auto_arima(dataset['Price'], d=1, D=1)"
   ]
  },
  {
   "cell_type": "code",
   "execution_count": 16,
   "id": "27321f95-e965-4700-abab-3f8650a29d6a",
   "metadata": {},
   "outputs": [
    {
     "data": {
      "text/html": [
       "<div>\n",
       "<style scoped>\n",
       "    .dataframe tbody tr th:only-of-type {\n",
       "        vertical-align: middle;\n",
       "    }\n",
       "\n",
       "    .dataframe tbody tr th {\n",
       "        vertical-align: top;\n",
       "    }\n",
       "\n",
       "    .dataframe thead th {\n",
       "        text-align: right;\n",
       "    }\n",
       "</style>\n",
       "<table border=\"1\" class=\"dataframe\">\n",
       "  <thead>\n",
       "    <tr style=\"text-align: right;\">\n",
       "      <th></th>\n",
       "      <th>Date</th>\n",
       "      <th>Price</th>\n",
       "    </tr>\n",
       "  </thead>\n",
       "  <tbody>\n",
       "    <tr>\n",
       "      <th>842</th>\n",
       "      <td>2020-03</td>\n",
       "      <td>1593.764</td>\n",
       "    </tr>\n",
       "    <tr>\n",
       "      <th>843</th>\n",
       "      <td>2020-04</td>\n",
       "      <td>1680.030</td>\n",
       "    </tr>\n",
       "    <tr>\n",
       "      <th>844</th>\n",
       "      <td>2020-05</td>\n",
       "      <td>1715.697</td>\n",
       "    </tr>\n",
       "    <tr>\n",
       "      <th>845</th>\n",
       "      <td>2020-06</td>\n",
       "      <td>1734.032</td>\n",
       "    </tr>\n",
       "    <tr>\n",
       "      <th>846</th>\n",
       "      <td>2020-07</td>\n",
       "      <td>1840.807</td>\n",
       "    </tr>\n",
       "  </tbody>\n",
       "</table>\n",
       "</div>"
      ],
      "text/plain": [
       "        Date     Price\n",
       "842  2020-03  1593.764\n",
       "843  2020-04  1680.030\n",
       "844  2020-05  1715.697\n",
       "845  2020-06  1734.032\n",
       "846  2020-07  1840.807"
      ]
     },
     "execution_count": 16,
     "metadata": {},
     "output_type": "execute_result"
    }
   ],
   "source": [
    "dataset.tail()"
   ]
  },
  {
   "cell_type": "code",
   "execution_count": 17,
   "id": "587d5a0d-209f-477e-a49c-3dd8428e781b",
   "metadata": {},
   "outputs": [],
   "source": [
    "to_predict = list(range(847, 1500))\n",
    "predict = pd.DataFrame(model.predict(n_periods = 653), columns=['Predict Result'], index = to_predict)"
   ]
  },
  {
   "cell_type": "code",
   "execution_count": 18,
   "id": "fc18fd4c-e272-4b20-b87d-a01819882804",
   "metadata": {},
   "outputs": [
    {
     "data": {
      "text/html": [
       "<div>\n",
       "<style scoped>\n",
       "    .dataframe tbody tr th:only-of-type {\n",
       "        vertical-align: middle;\n",
       "    }\n",
       "\n",
       "    .dataframe tbody tr th {\n",
       "        vertical-align: top;\n",
       "    }\n",
       "\n",
       "    .dataframe thead th {\n",
       "        text-align: right;\n",
       "    }\n",
       "</style>\n",
       "<table border=\"1\" class=\"dataframe\">\n",
       "  <thead>\n",
       "    <tr style=\"text-align: right;\">\n",
       "      <th></th>\n",
       "      <th>Predict Result</th>\n",
       "    </tr>\n",
       "  </thead>\n",
       "  <tbody>\n",
       "    <tr>\n",
       "      <th>847</th>\n",
       "      <td>1866.819277</td>\n",
       "    </tr>\n",
       "    <tr>\n",
       "      <th>848</th>\n",
       "      <td>1874.906677</td>\n",
       "    </tr>\n",
       "    <tr>\n",
       "      <th>849</th>\n",
       "      <td>1892.839979</td>\n",
       "    </tr>\n",
       "    <tr>\n",
       "      <th>850</th>\n",
       "      <td>1903.298036</td>\n",
       "    </tr>\n",
       "    <tr>\n",
       "      <th>851</th>\n",
       "      <td>1917.231617</td>\n",
       "    </tr>\n",
       "    <tr>\n",
       "      <th>...</th>\n",
       "      <td>...</td>\n",
       "    </tr>\n",
       "    <tr>\n",
       "      <th>1495</th>\n",
       "      <td>3569.488343</td>\n",
       "    </tr>\n",
       "    <tr>\n",
       "      <th>1496</th>\n",
       "      <td>3571.842369</td>\n",
       "    </tr>\n",
       "    <tr>\n",
       "      <th>1497</th>\n",
       "      <td>3574.196396</td>\n",
       "    </tr>\n",
       "    <tr>\n",
       "      <th>1498</th>\n",
       "      <td>3576.550422</td>\n",
       "    </tr>\n",
       "    <tr>\n",
       "      <th>1499</th>\n",
       "      <td>3578.904448</td>\n",
       "    </tr>\n",
       "  </tbody>\n",
       "</table>\n",
       "<p>653 rows × 1 columns</p>\n",
       "</div>"
      ],
      "text/plain": [
       "      Predict Result\n",
       "847      1866.819277\n",
       "848      1874.906677\n",
       "849      1892.839979\n",
       "850      1903.298036\n",
       "851      1917.231617\n",
       "...              ...\n",
       "1495     3569.488343\n",
       "1496     3571.842369\n",
       "1497     3574.196396\n",
       "1498     3576.550422\n",
       "1499     3578.904448\n",
       "\n",
       "[653 rows x 1 columns]"
      ]
     },
     "execution_count": 18,
     "metadata": {},
     "output_type": "execute_result"
    }
   ],
   "source": [
    "predict"
   ]
  },
  {
   "cell_type": "code",
   "execution_count": 40,
   "id": "08b9419c-5153-41c6-a392-1c10f564e45f",
   "metadata": {},
   "outputs": [],
   "source": [
    "draw_x = dataset.iloc[:, 0:1].values\n",
    "draw_y = dataset.iloc[:, 1].values\n",
    "draw_x = np.array(draw_x)\n",
    "for item in draw_x:\n",
    "    item[0] = (float(item[0][0:4]) * 12) + (float(item[0][5:]))\n",
    "\n",
    "pred_x = list(range(24248, 24901))"
   ]
  },
  {
   "cell_type": "code",
   "execution_count": 43,
   "id": "5396ed9d-52b4-41a2-9e18-50588f8a6581",
   "metadata": {},
   "outputs": [
    {
     "data": {
      "text/plain": [
       "[<matplotlib.lines.Line2D at 0x1dc79c646d0>]"
      ]
     },
     "execution_count": 43,
     "metadata": {},
     "output_type": "execute_result"
    },
    {
     "data": {
      "image/png": "[encoded data removed]",
      "text/plain": [
       "<Figure size 432x288 with 1 Axes>"
      ]
     },
     "metadata": {
      "needs_background": "light"
     },
     "output_type": "display_data"
    }
   ],
   "source": [
    "import matplotlib.pyplot as plt \n",
    "plt.plot(draw_x, draw_y, lw=1,  color='green')\n",
    "plt.plot(pred_x, predict, lw=1,  color='red')"
   ]
  },
  {
   "cell_type": "code",
   "execution_count": null,
   "id": "6c3790be-4184-4ee2-bd88-4570a3048306",
   "metadata": {},
   "outputs": [],
   "source": []
  }
 ],
 "metadata": {
  "kernelspec": {
   "display_name": "Python 3 (ipykernel)",
   "language": "python",
   "name": "python3"
  },
  "language_info": {
   "codemirror_mode": {
    "name": "ipython",
    "version": 3
   },
   "file_extension": ".py",
   "mimetype": "text/x-python",
   "name": "python",
   "nbconvert_exporter": "python",
   "pygments_lexer": "ipython3",
   "version": "3.9.7"
  }
 },
 "nbformat": 4,
 "nbformat_minor": 5
}
