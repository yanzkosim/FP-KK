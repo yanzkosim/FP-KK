{
 "cells": [
  {
   "cell_type": "code",
   "execution_count": null,
   "id": "9c060fee-2413-41d7-8c26-afbe83333e49",
   "metadata": {},
   "outputs": [],
   "source": [
    "# LinearRegression is a machine learning library for linear regression \n",
    "from sklearn.linear_model import LinearRegression \n",
    "# pandas and numpy are used for data manipulation \n",
    "import pandas as pd \n",
    "import numpy as np \n",
    "# matplotlib and seaborn are used for plotting graphs \n",
    "import matplotlib.pyplot as plt \n",
    "from sklearn.svm import SVR"
   ]
  },
  {
   "cell_type": "code",
   "execution_count": 60,
   "id": "5da440d9-2735-496d-bb25-1c845182c8bd",
   "metadata": {},
   "outputs": [
    {
     "name": "stdout",
     "output_type": "stream",
     "text": [
      "[[195012]\n",
      " [195112]\n",
      " [195212]\n",
      " [195312]\n",
      " [195412]\n",
      " [195512]\n",
      " [195612]\n",
      " [195712]\n",
      " [195812]\n",
      " [195912]]\n",
      "[34.72 34.66 34.79 34.85 35.04 34.97 34.9  34.99 35.09 35.05]\n"
     ]
    }
   ],
   "source": [
    "dataset = pd.read_csv('annual_csv.csv')\n",
    "x = dataset.iloc[:, 0:1].values\n",
    "x = np.array(x)\n",
    "for item in x:\n",
    "    item[0] = int(np.core.defchararray.replace(item[0], '-', ''))\n",
    "\n",
    "y = dataset.iloc[:, 1].values\n",
    "\n",
    "print(x[:10])\n",
    "print(y[:10])"
   ]
  },
  {
   "cell_type": "code",
   "execution_count": 58,
   "id": "ec644f7b-e93a-4fc4-ae2d-152771b06fe1",
   "metadata": {},
   "outputs": [],
   "source": [
    "# from sklearn.preprocessing import StandardScaler \n",
    "# sc_X = StandardScaler() \n",
    "# sc_y = StandardScaler() \n",
    "# x = sc_X.fit_transform(x)\n",
    "# y = sc_y.fit_transform(y.reshape(-1, 1))"
   ]
  },
  {
   "cell_type": "code",
   "execution_count": 61,
   "id": "1a561a40-8a21-4d86-a8a7-cd183878285e",
   "metadata": {},
   "outputs": [
    {
     "data": {
      "text/plain": [
       "SVR(C=100, epsilon=1)"
      ]
     },
     "execution_count": 61,
     "metadata": {},
     "output_type": "execute_result"
    }
   ],
   "source": [
    "y = y.ravel() \n",
    "regressor = SVR(kernel=\"rbf\", C=100, gamma=\"scale\", epsilon=1)\n",
    "regressor.fit(x, y)"
   ]
  },
  {
   "cell_type": "code",
   "execution_count": 62,
   "id": "13a000e9-7920-4ec8-80fa-8c999cf7895f",
   "metadata": {},
   "outputs": [
    {
     "data": {
      "image/png": "[encoded data removed]",
      "text/plain": [
       "<Figure size 432x288 with 1 Axes>"
      ]
     },
     "metadata": {
      "needs_background": "light"
     },
     "output_type": "display_data"
    }
   ],
   "source": [
    "# svr_precomputed.fit(X, vertical)\n",
    "plt.scatter(x, y, color = 'red') \n",
    "plt.plot(x, regressor.predict(x), lw=2,  color = 'blue') \n",
    "plt.xlabel('Year') \n",
    "plt.ylabel('Price') \n",
    "plt.show()"
   ]
  },
  {
   "cell_type": "code",
   "execution_count": null,
   "id": "f0beff93-8b2d-4144-8865-2428c750441c",
   "metadata": {
    "jupyter": {
     "source_hidden": true
    },
    "tags": []
   },
   "outputs": [
    {
     "name": "stdout",
     "output_type": "stream",
     "text": [
      "[249.38246702]\n"
     ]
    }
   ],
   "source": [
    "# Predicting a new result \n",
    "y_pred = regressor.predict([[200012.0]])\n",
    "# y_pred = sc_y.inverse_transform(y_pred)\n",
    "print(y_pred)"
   ]
  },
  {
   "cell_type": "code",
   "execution_count": null,
   "id": "70320198-a870-4d9e-9d91-444d44409071",
   "metadata": {},
   "outputs": [
    {
     "name": "stdout",
     "output_type": "stream",
     "text": [
      "R-squared: 0.8359130558382349\n",
      "MSE: 32019.368973614928\n"
     ]
    }
   ],
   "source": [
    "from sklearn.metrics import mean_squared_error\n",
    "yfit = regressor.predict(x)\n",
    "score = regressor.score(x,y)\n",
    "print(\"R-squared:\", score)\n",
    "print(\"MSE:\", mean_squared_error(y, yfit))"
   ]
  },
  {
   "cell_type": "code",
   "execution_count": null,
   "id": "5563f9a7-05b3-4505-a0b9-9047cada222a",
   "metadata": {},
   "outputs": [],
   "source": []
  }
 ],
 "metadata": {
  "kernelspec": {
   "display_name": "Python 3 (ipykernel)",
   "language": "python",
   "name": "python3"
  },
  "language_info": {
   "codemirror_mode": {
    "name": "ipython",
    "version": 3
   },
   "file_extension": ".py",
   "mimetype": "text/x-python",
   "name": "python",
   "nbconvert_exporter": "python",
   "pygments_lexer": "ipython3",
   "version": "3.9.7"
  }
 },
 "nbformat": 4,
 "nbformat_minor": 5
}
