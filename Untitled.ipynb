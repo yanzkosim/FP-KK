{
 "cells": [
  {
   "cell_type": "code",
   "execution_count": 5,
   "id": "37f17fe0-5b82-479d-919e-fbbfb1bc8a05",
   "metadata": {},
   "outputs": [],
   "source": [
    "import pandas as pd\n",
    "import numpy as np\n",
    "\n",
    "import plotly.express as px\n",
    "import plotly.graph_objects as go\n",
    "from plotly.subplots import make_subplots\n",
    "import plotly.figure_factory as ff\n",
    "\n",
    "from pmdarima.arima import auto_arima, ADFTest\n",
    "from statsmodels.graphics.tsaplots import plot_acf, plot_pacf\n",
    "from statsmodels.tsa.arima_model import ARIMA\n",
    "from statsmodels.tsa.stattools import adfuller\n",
    "\n",
    "def print_adfuller(inputseries):\n",
    "    result = adfuller(inputseries)\n",
    "    print(\"ADF Statistic : %f\" % result[0])\n",
    "    print(\"p-value : %f\" % result[1])\n",
    "    print('Critical values : ')\n",
    "    for key, value in result[4].items():\n",
    "        print('\\t%s: %.3f' % (key ,value))"
   ]
  },
  {
   "cell_type": "code",
   "execution_count": 6,
   "id": "544c7652-75da-494e-8326-50f9c6027fef",
   "metadata": {},
   "outputs": [],
   "source": [
    "annual = pd.read_csv('annual_csv.csv')\n",
    "month = pd.read_csv('monthly_csv.csv')"
   ]
  },
  {
   "cell_type": "code",
   "execution_count": 7,
   "id": "9c80f78f-5946-4510-bf29-3b645eda76cb",
   "metadata": {},
   "outputs": [],
   "source": [
    "diff_1 = month['Price'].diff(periods=1)\n",
    "diff_1 = diff_1.iloc[1:]"
   ]
  },
  {
   "cell_type": "code",
   "execution_count": 8,
   "id": "b55ac1ca-aa7d-46e4-bc5a-78542c442286",
   "metadata": {},
   "outputs": [
    {
     "name": "stdout",
     "output_type": "stream",
     "text": [
      "1        0.000\n",
      "2        0.000\n",
      "3        0.000\n",
      "4        0.000\n",
      "5        0.000\n",
      "        ...   \n",
      "842     -5.054\n",
      "843     86.266\n",
      "844     35.667\n",
      "845     18.335\n",
      "846    106.775\n",
      "Name: Price, Length: 846, dtype: float64\n"
     ]
    }
   ],
   "source": [
    "print(diff_1)"
   ]
  },
  {
   "cell_type": "code",
   "execution_count": 9,
   "id": "5ee3447c-8952-487b-91f2-801fe071cafa",
   "metadata": {},
   "outputs": [
    {
     "name": "stdout",
     "output_type": "stream",
     "text": [
      "0        34.730\n",
      "1        34.730\n",
      "2        34.730\n",
      "3        34.730\n",
      "4        34.730\n",
      "         ...   \n",
      "842    1593.764\n",
      "843    1680.030\n",
      "844    1715.697\n",
      "845    1734.032\n",
      "846    1840.807\n",
      "Name: Price, Length: 847, dtype: float64\n"
     ]
    }
   ],
   "source": [
    "print(month['Price'])"
   ]
  },
  {
   "cell_type": "code",
   "execution_count": null,
   "id": "46078c1d-cf3d-4487-84bc-2fdeb733a62d",
   "metadata": {},
   "outputs": [],
   "source": []
  }
 ],
 "metadata": {
  "kernelspec": {
   "display_name": "Python 3 (ipykernel)",
   "language": "python",
   "name": "python3"
  },
  "language_info": {
   "codemirror_mode": {
    "name": "ipython",
    "version": 3
   },
   "file_extension": ".py",
   "mimetype": "text/x-python",
   "name": "python",
   "nbconvert_exporter": "python",
   "pygments_lexer": "ipython3",
   "version": "3.9.7"
  }
 },
 "nbformat": 4,
 "nbformat_minor": 5
}
