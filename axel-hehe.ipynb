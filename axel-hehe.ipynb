{
 "cells": [
  {
   "cell_type": "code",
   "execution_count": 1,
   "id": "0008999a-82b5-457a-b6f2-61a3322af019",
   "metadata": {},
   "outputs": [],
   "source": [
    "# LinearRegression is a machine learning library for linear regression \n",
    "from sklearn.linear_model import LinearRegression \n",
    "# pandas and numpy are used for data manipulation \n",
    "import pandas as pd \n",
    "import numpy as np \n",
    "# matplotlib and seaborn are used for plotting graphs \n",
    "import matplotlib.pyplot as plt \n",
    "from sklearn.svm import SVR\n",
    "from sklearn.metrics import mean_squared_error"
   ]
  },
  {
   "cell_type": "code",
   "execution_count": 6,
   "id": "0cbc47c4-66fa-4d3a-a3db-301669758a25",
   "metadata": {
    "tags": []
   },
   "outputs": [],
   "source": [
    "dataset = pd.read_csv('annual_csv.csv')\n",
    "x = dataset.iloc[:, 0:1].values\n",
    "x = np.array(x)\n",
    "for item in x:\n",
    "    # item[0] = int(np.core.defchararray.replace(item[0], '-', ''))\n",
    "    item[0] = (float(item[0][0:4]) * 12) + (float(item[0][5:]))\n",
    "\n",
    "treeshold = 61\n",
    "\n",
    "raw_x = x[:]\n",
    "raw_y = dataset.iloc[:, 1].values\n",
    "\n",
    "test_x = x[treeshold:]\n",
    "test_y = dataset.iloc[treeshold:, 1].values\n",
    "\n",
    "x = x[:treeshold]\n",
    "y = dataset.iloc[:treeshold, 1].values"
   ]
  },
  {
   "cell_type": "code",
   "execution_count": 7,
   "id": "08e4e411-7318-4ae1-86f7-50af21b45c35",
   "metadata": {
    "tags": []
   },
   "outputs": [
    {
     "data": {
      "text/plain": [
       "SVR(C=100, epsilon=1)"
      ]
     },
     "execution_count": 7,
     "metadata": {},
     "output_type": "execute_result"
    }
   ],
   "source": [
    "y = y.ravel() \n",
    "regressor = SVR(kernel=\"rbf\", C=100, gamma=\"scale\", epsilon=1)\n",
    "regressor.fit(x, y)"
   ]
  },
  {
   "cell_type": "code",
   "execution_count": 8,
   "id": "986e88ed-405e-4085-a48d-bef76b5f8ca7",
   "metadata": {
    "tags": []
   },
   "outputs": [
    {
     "data": {
      "text/plain": [
       "[<matplotlib.lines.Line2D at 0x2094d0b09d0>]"
      ]
     },
     "execution_count": 8,
     "metadata": {},
     "output_type": "execute_result"
    },
    {
     "data": {
      "image/png": "[encoded data removed]",
      "text/plain": [
       "<Figure size 432x288 with 1 Axes>"
      ]
     },
     "metadata": {
      "needs_background": "light"
     },
     "output_type": "display_data"
    }
   ],
   "source": [
    "# Predicting a new result \n",
    "y_pred = regressor.predict(test_x)\n",
    "plt.scatter(x, y, color='red') \n",
    "plt.plot(test_x, y_pred, lw=1, color='blue')\n",
    "plt.plot(raw_x, raw_y, lw=1,  color='green')\n",
    "# y_pred = sc_y.inverse_transform(y_pred)\n",
    "# print(y_pred)"
   ]
  },
  {
   "cell_type": "code",
   "execution_count": 9,
   "id": "cd9be5c6-550d-49bb-b7ec-01fc820db002",
   "metadata": {
    "tags": []
   },
   "outputs": [
    {
     "name": "stdout",
     "output_type": "stream",
     "text": [
      "R-squared: -15.666926405845736\n",
      "MSE: 728794.6714592242\n"
     ]
    }
   ],
   "source": [
    "# Error calculating with new partitioned data\n",
    "\n",
    "yfit = regressor.predict(test_x)\n",
    "score = regressor.score(test_x, test_y)\n",
    "print(\"R-squared:\", score)\n",
    "print(\"MSE:\", mean_squared_error(test_y, yfit))"
   ]
  },
  {
   "cell_type": "code",
   "execution_count": 6,
   "id": "395d426d-d4a4-4dbc-81d5-44df144995d5",
   "metadata": {
    "tags": []
   },
   "outputs": [
    {
     "name": "stdout",
     "output_type": "stream",
     "text": [
      "[505.53906667]\n"
     ]
    }
   ],
   "source": []
  }
 ],
 "metadata": {
  "kernelspec": {
   "display_name": "Python 3 (ipykernel)",
   "language": "python",
   "name": "python3"
  },
  "language_info": {
   "codemirror_mode": {
    "name": "ipython",
    "version": 3
   },
   "file_extension": ".py",
   "mimetype": "text/x-python",
   "name": "python",
   "nbconvert_exporter": "python",
   "pygments_lexer": "ipython3",
   "version": "3.9.7"
  }
 },
 "nbformat": 4,
 "nbformat_minor": 5
}
